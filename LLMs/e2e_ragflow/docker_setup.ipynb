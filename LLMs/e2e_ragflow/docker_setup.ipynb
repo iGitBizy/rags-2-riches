{
 "cells": [
  {
   "cell_type": "markdown",
   "id": "9ea0b941",
   "metadata": {},
   "source": [
    "# DOCKER CONTAINER SETUP\n",
    " Run these commands inside the terminal \n"
   ]
  },
  {
   "cell_type": "markdown",
   "id": "b96b2016",
   "metadata": {},
   "source": [
    "# Run a Container from a single image"
   ]
  },
  {
   "cell_type": "code",
   "execution_count": null,
   "id": "6d218fc3",
   "metadata": {},
   "outputs": [],
   "source": [
    "# set up new directory for docker repository\n",
    "!mkdir .\\Docker_startup\\\n",
    "\n",
    "# navigate  to directory\n",
    "!cd .\\Docker_startup\\\n",
    "\n",
    "# clone Docker startup guide repo\n",
    "git clone https://github.com/docker/welcome-to-docker\n",
    "\n",
    "# Build new docker image\n",
    "!docker build -t welcome-to-docker ."
   ]
  },
  {
   "cell_type": "markdown",
   "id": "b410f77b",
   "metadata": {},
   "source": [
    "# Run multiple Containers at once"
   ]
  },
  {
   "cell_type": "code",
   "execution_count": null,
   "id": "97a68092",
   "metadata": {},
   "outputs": [],
   "source": [
    "!git clone https://github.com/docker/multi-container-app"
   ]
  }
 ],
 "metadata": {
  "kernelspec": {
   "display_name": ".venv",
   "language": "python",
   "name": "python3"
  },
  "language_info": {
   "name": "python",
   "version": "3.11.0"
  }
 },
 "nbformat": 4,
 "nbformat_minor": 5
}
