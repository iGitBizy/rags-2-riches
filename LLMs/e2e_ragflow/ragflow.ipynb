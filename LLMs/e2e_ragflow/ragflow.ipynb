{
 "cells": [
  {
   "cell_type": "markdown",
   "id": "08ca93f7",
   "metadata": {},
   "source": [
    "\n",
    "RAG Workflow with Vector DB + Mistral-7B\n",
    "\n",
    "✅ API Ready with FastAPI\n",
    "\n",
    "✅ Multi-Query Retrieval\n",
    "\n",
    "✅ Re-Ranking (Contextual Compression)\n",
    "\n",
    "✅ Chatbot Memory\n",
    "\n",
    "✅ LangSmith Tracing\n"
   ]
  },
  {
   "cell_type": "markdown",
   "id": "66c50a70",
   "metadata": {},
   "source": []
  }
 ],
 "metadata": {
  "kernelspec": {
   "display_name": ".venv",
   "language": "python",
   "name": "python3"
  },
  "language_info": {
   "name": "python",
   "version": "3.11.0"
  }
 },
 "nbformat": 4,
 "nbformat_minor": 5
}
