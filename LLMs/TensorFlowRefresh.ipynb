{
 "cells": [
  {
   "cell_type": "code",
   "execution_count": null,
   "metadata": {},
   "outputs": [
    {
     "name": "stdout",
     "output_type": "stream",
     "text": [
      "TensorFlow version: 2.19.0\n"
     ]
    }
   ],
   "source": [
    "# set up TensorFlow\n",
    "import tensorflow as tf\n",
    "print(\"TensorFlow version:\", tf.__version__)"
   ]
  },
  {
   "cell_type": "markdown",
   "metadata": {},
   "source": [
    "# Load a dataset\n",
    "will use the MNist training dataset\n",
    "note: pixel values of the images range from 0 - 255. \n",
    "Scale these values to a range of 0 to 1 by dividing values by 255.0 \n",
    "should also convert sample data from intgers to float"
   ]
  },
  {
   "cell_type": "code",
   "execution_count": 2,
   "metadata": {},
   "outputs": [],
   "source": [
    "mnist = tf.keras.datasets.mnist"
   ]
  },
  {
   "cell_type": "code",
   "execution_count": 3,
   "metadata": {},
   "outputs": [
    {
     "name": "stdout",
     "output_type": "stream",
     "text": [
      "Downloading data from https://storage.googleapis.com/tensorflow/tf-keras-datasets/mnist.npz\n",
      "\u001b[1m11490434/11490434\u001b[0m \u001b[32m━━━━━━━━━━━━━━━━━━━━\u001b[0m\u001b[37m\u001b[0m \u001b[1m1s\u001b[0m 0us/step\n"
     ]
    }
   ],
   "source": [
    "# split data into test and train set\n",
    "(x_train, y_train), (x_test, y_test) = mnist.load_data()\n",
    "# scale values to 0-1 \n",
    "x_train, x_test = x_train / 255.0, x_test / 255.0"
   ]
  },
  {
   "cell_type": "markdown",
   "metadata": {},
   "source": [
    "## Build a machine learning model with tf.keras.Sequential model:\n",
    "### Keras components: \n",
    "    Layers: A layer is a simple input/output transformation\n",
    "    Models: A model is a directed acyclic graph of layers\n",
    "\n",
    "    Sequential Model: Straightforward simple list of layers, limited to a single-input, single-output stacks of layers"
   ]
  },
  {
   "cell_type": "code",
   "execution_count": 6,
   "metadata": {},
   "outputs": [
    {
     "name": "stderr",
     "output_type": "stream",
     "text": [
      "c:\\Users\\jessi\\ML_PATH\\RAGs_2_Riches\\rags-2-riches\\LLMs\\.venv\\Lib\\site-packages\\keras\\src\\layers\\reshaping\\flatten.py:37: UserWarning: Do not pass an `input_shape`/`input_dim` argument to a layer. When using Sequential models, prefer using an `Input(shape)` object as the first layer in the model instead.\n",
      "  super().__init__(**kwargs)\n"
     ]
    }
   ],
   "source": [
    "# build a tf.keras.Sequential model\n",
    "model = tf.keras.models.Sequential([\n",
    "    tf.keras.layers.Flatten(input_shape=(28, 28)), # Flattening input of shape (28,28) (taking a 28x28 matrix and turning it into a single 784 dimension vector/array)\n",
    "    tf.keras.layers.Dense(128, activation='relu'),# first dense layer 128 neuron layer with ReLU activation function\n",
    "    tf.keras.layers.Dropout(0.2), #dropout layer to prevent model overfitting\n",
    "    tf.keras.layers.Dense(10) # output another dense layer with 10 units suitable for classifying digits into 10 classes (digits 0-9)\n",
    "])"
   ]
  },
  {
   "cell_type": "code",
   "execution_count": null,
   "metadata": {},
   "outputs": [
    {
     "data": {
      "text/plain": [
       "array([[ 0.11133704, -0.10786633,  0.55293685,  0.5419869 , -0.62926143,\n",
       "         0.38413736,  0.2931878 , -1.031058  ,  0.00687899,  1.0323563 ]],\n",
       "      dtype=float32)"
      ]
     },
     "execution_count": 7,
     "metadata": {},
     "output_type": "execute_result"
    }
   ],
   "source": [
    "predictions = model(x_train[:1]).numpy() # return vector of logits or log-odds scores, one for each class\n",
    "predictions"
   ]
  },
  {
   "cell_type": "code",
   "execution_count": 8,
   "metadata": {},
   "outputs": [
    {
     "data": {
      "text/plain": [
       "array([[0.08607167, 0.06912918, 0.13385807, 0.13240032, 0.04104142,\n",
       "        0.113067  , 0.10323738, 0.02746151, 0.07753444, 0.21619906]],\n",
       "      dtype=float32)"
      ]
     },
     "execution_count": 8,
     "metadata": {},
     "output_type": "execute_result"
    }
   ],
   "source": [
    "# the funciton converts these logits to probablilities for each class\n",
    "tf.nn.softmax(predictions).numpy()"
   ]
  },
  {
   "cell_type": "code",
   "execution_count": null,
   "metadata": {},
   "outputs": [],
   "source": []
  }
 ],
 "metadata": {
  "kernelspec": {
   "display_name": ".venv",
   "language": "python",
   "name": "python3"
  },
  "language_info": {
   "codemirror_mode": {
    "name": "ipython",
    "version": 3
   },
   "file_extension": ".py",
   "mimetype": "text/x-python",
   "name": "python",
   "nbconvert_exporter": "python",
   "pygments_lexer": "ipython3",
   "version": "3.11.0"
  }
 },
 "nbformat": 4,
 "nbformat_minor": 2
}
